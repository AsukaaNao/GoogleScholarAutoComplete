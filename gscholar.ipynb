{
 "cells": [
  {
   "cell_type": "markdown",
   "id": "fe20042c",
   "metadata": {},
   "source": [
    "# 1. Problem"
   ]
  },
  {
   "cell_type": "markdown",
   "id": "877f06db",
   "metadata": {},
   "source": [
    "#### *problem disini"
   ]
  },
  {
   "cell_type": "markdown",
   "id": "c61ce2bc",
   "metadata": {},
   "source": [
    "# 2. Corpus Resource"
   ]
  },
  {
   "cell_type": "markdown",
   "id": "5bfe3f57",
   "metadata": {},
   "source": [
    "#### *problem disini"
   ]
  },
  {
   "cell_type": "markdown",
   "id": "22b8abd2",
   "metadata": {},
   "source": [
    "# 3. Methods"
   ]
  },
  {
   "cell_type": "markdown",
   "id": "79cdea12",
   "metadata": {},
   "source": [
    "#### *problem disini"
   ]
  },
  {
   "cell_type": "markdown",
   "id": "e5f5fb33",
   "metadata": {},
   "source": [
    "# 4.Code"
   ]
  },
  {
   "cell_type": "markdown",
   "id": "a028d9d6",
   "metadata": {},
   "source": [
    "#### *problem disini"
   ]
  },
  {
   "cell_type": "code",
   "execution_count": 4,
   "id": "a5b61736",
   "metadata": {},
   "outputs": [
    {
     "name": "stderr",
     "output_type": "stream",
     "text": [
      "[nltk_data] Downloading package punkt to\n",
      "[nltk_data]     C:\\Users\\Christian\\AppData\\Roaming\\nltk_data...\n",
      "[nltk_data]   Package punkt is already up-to-date!\n",
      "[nltk_data] Downloading package averaged_perceptron_tagger to\n",
      "[nltk_data]     C:\\Users\\Christian\\AppData\\Roaming\\nltk_data...\n",
      "[nltk_data]   Package averaged_perceptron_tagger is already up-to-\n",
      "[nltk_data]       date!\n",
      "[nltk_data] Downloading package stopwords to\n",
      "[nltk_data]     C:\\Users\\Christian\\AppData\\Roaming\\nltk_data...\n",
      "[nltk_data]   Package stopwords is already up-to-date!\n"
     ]
    }
   ],
   "source": [
    "import pandas as pd\n",
    "import re\n",
    "import nltk\n",
    "from nltk.util import ngrams\n",
    "from nltk import pos_tag, word_tokenize\n",
    "from collections import defaultdict, Counter\n",
    "import string\n",
    "from nltk.corpus import stopwords\n",
    "\n",
    "# Download necessary NLTK data\n",
    "nltk.download('punkt')\n",
    "nltk.download('averaged_perceptron_tagger')\n",
    "nltk.download('stopwords')\n",
    "\n",
    "# Load data\n",
    "df = pd.read_csv(\"preprocessed_titles.csv\")\n",
    "\n",
    "stop_words = set(stopwords.words('english'))\n",
    "punctuation = set(string.punctuation)\n",
    "\n",
    "def clean_title(title):\n",
    "    title = re.sub(r'\\[.*?\\]', '', title)  # remove tags like [HTML]\n",
    "    title = title.lower().strip()\n",
    "    return title\n",
    "\n",
    "def is_valid_token(token):\n",
    "    return token not in stop_words and token not in punctuation\n",
    "\n",
    "df['clean_title'] = df.iloc[:, 0].apply(clean_title)\n",
    "df['clean_meta'] = df.iloc[:, 2].astype(str).apply(clean_title)\n",
    "df['tokens_pos'] = df['clean_title'].apply(lambda t: pos_tag(word_tokenize(t)))\n",
    "\n",
    "# Build trigram model and vocabulary\n",
    "ngram_freq = defaultdict(Counter)\n",
    "word_vocab = Counter()\n",
    "\n",
    "for tokens_pos in df['tokens_pos']:\n",
    "    tokens = [word for word, pos in tokens_pos if is_valid_token(word)]\n",
    "    for word in tokens:\n",
    "        word_vocab[word] += 1\n",
    "    for ngram in ngrams(tokens, 3):\n",
    "        prefix = \" \".join(ngram[:2])\n",
    "        next_word = ngram[2]\n",
    "        ngram_freq[prefix][next_word] += 1\n",
    "\n",
    "# Suggest full word completion if query ends with a partial word\n",
    "def word_completion(partial_word, max_suggestions=3):\n",
    "    matches = [word for word in word_vocab if word.startswith(partial_word)]\n",
    "    matches = sorted(matches, key=lambda w: word_vocab[w], reverse=True)\n",
    "    return matches[:max_suggestions]\n",
    "\n",
    "# Phrase autocomplete using trigram model\n",
    "def suggest_autocomplete(query, max_suggestions=5):\n",
    "    query = query.lower().strip()\n",
    "    words = word_tokenize(query)\n",
    "\n",
    "    if not words:\n",
    "        return []\n",
    "\n",
    "    last_word = words[-1]\n",
    "    base = \" \".join(words[:-1])\n",
    "\n",
    "    suggestions = []\n",
    "\n",
    "    # If last word is partial, complete it\n",
    "    if not is_valid_token(last_word) or len(last_word) < 2:\n",
    "        return []\n",
    "\n",
    "    word_matches = word_completion(last_word, max_suggestions=1)\n",
    "    if not word_matches:\n",
    "        return []\n",
    "\n",
    "    completed_word = word_matches[0]\n",
    "    full_query = (base + ' ' + completed_word).strip()\n",
    "    full_words = word_tokenize(full_query)\n",
    "\n",
    "    # Now use this completed sequence for n-gram continuation\n",
    "    if len(full_words) >= 2:\n",
    "        prefix = \" \".join(full_words[-2:])\n",
    "    else:\n",
    "        prefix = full_words[0]\n",
    "\n",
    "    next_words = ngram_freq.get(prefix, Counter())\n",
    "\n",
    "    # Build combined suggestions (completed word + next token)\n",
    "    if next_words:\n",
    "        for next_word, _ in next_words.most_common(max_suggestions - 1):\n",
    "            suggestions.append(full_query + ' ' + next_word)\n",
    "\n",
    "    suggestions.insert(0, full_query)\n",
    "\n",
    "    return suggestions\n"
   ]
  },
  {
   "cell_type": "code",
   "execution_count": 5,
   "id": "89148a8f",
   "metadata": {},
   "outputs": [
    {
     "name": "stdout",
     "output_type": "stream",
     "text": [
      "Suggestions: ['machine learning', 'machine learning python', 'machine learning trends', 'machine learning dynamical', 'machine learning art']\n"
     ]
    }
   ],
   "source": [
    "user_query = \"machine learning\"\n",
    "suggestions = suggest_autocomplete(user_query)\n",
    "print(\"Suggestions:\", suggestions)"
   ]
  },
  {
   "cell_type": "markdown",
   "id": "fb860a21",
   "metadata": {},
   "source": [
    "# 5. Performance Evaluation"
   ]
  },
  {
   "cell_type": "markdown",
   "id": "1be0e945",
   "metadata": {},
   "source": [
    "### *pake apa"
   ]
  },
  {
   "cell_type": "code",
   "execution_count": null,
   "id": "0f0204bd",
   "metadata": {},
   "outputs": [],
   "source": []
  },
  {
   "cell_type": "markdown",
   "id": "fd1de62d",
   "metadata": {},
   "source": [
    "# 6. Conclusion and Future works"
   ]
  },
  {
   "cell_type": "markdown",
   "id": "2ac05d0b",
   "metadata": {},
   "source": [
    "#### *problem disini"
   ]
  }
 ],
 "metadata": {
  "kernelspec": {
   "display_name": "Python 3",
   "language": "python",
   "name": "python3"
  },
  "language_info": {
   "codemirror_mode": {
    "name": "ipython",
    "version": 3
   },
   "file_extension": ".py",
   "mimetype": "text/x-python",
   "name": "python",
   "nbconvert_exporter": "python",
   "pygments_lexer": "ipython3",
   "version": "3.12.2"
  }
 },
 "nbformat": 4,
 "nbformat_minor": 5
}
